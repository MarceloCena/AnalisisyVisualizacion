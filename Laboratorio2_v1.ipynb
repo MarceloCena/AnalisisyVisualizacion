{
 "cells": [
  {
   "cell_type": "markdown",
   "metadata": {},
   "source": [
    "# Laboratorio 2: Estudio de correlacion de diferentes variables en un grupo de jóvenes #\n",
    "\n",
    "#### Autores: Gonzalo Oviedo, Marcelo Cena####\n",
    "\n",
    "\n",
    "#### En esta oportunidad, a partir del análisis del set de datos provisto, realizaremos diversos estudios de correlacion entre el genero y los demas datos provistos, seguidamente nos enfocaremos en analizar la existencia de correlación alguna entre la cantidad de tiempo en internet y el género de las personas para determinar si esto influye. ####\n",
    "\n",
    "En este mundo en el que nos encontramos constantemente \"en línea\", un [estudio reciente](https://www.linkedin.com/feed/news/the-loneliest-generation-in-america-1045420/), mostró que un 54% de individuos de la nueva generación (aquellos nacidos entre 1990 y 2005), respondieron afirmativamente a sentirse solos.\n",
    "\n",
    "Debido a las diferentes implicancias en cuestiones de salud, nos disponemos a analizar en nuestros datos quienes son los que han respondido ser \"adictos\" y responder a la pregunta inicial, referida a la correlación entre el sexo y la \"adicción\" a estar conectados."
   ]
  },
  {
   "cell_type": "code",
   "execution_count": 1,
   "metadata": {},
   "outputs": [],
   "source": [
    "# %matplotlib notebook\n",
    "%matplotlib inline\n",
    "import matplotlib.pyplot as plt\n",
    "import pandas as pd\n",
    "import numpy as np\n",
    "import seaborn as sb\n",
    "import scipy.stats as stats\n",
    "import copy\n",
    "pd.set_option('display.max_columns',150)\n",
    "from IPython.display import display\n",
    "import warnings\n",
    "warnings.filterwarnings(\"ignore\")\n",
    "sb.set_style('whitegrid')\n",
    "sb.set_context('talk')\n",
    "\n",
    "dataset = pd.read_csv( './Laboratorio_1/responses.csv', encoding='utf8')\n"
   ]
  },
  {
   "cell_type": "markdown",
   "metadata": {},
   "source": [
    "## Primer contacto con los datos ##\n",
    "\n",
    "Comenzaremos haciendo un estudio general de la relacion entre el género y las diversas variables, para despues enfocarnos en la cantidad de personas que manifiestan tener conexión a internet al menos una vez al día. Surge rápidamente de este análisis que solo el 0.29% de las personas se ha manifestado negativamente."
   ]
  },
  {
   "cell_type": "code",
   "execution_count": 2,
   "metadata": {},
   "outputs": [
    {
     "name": "stdout",
     "output_type": "stream",
     "text": [
      "\n",
      "Cantidad de Personas:   1010\n",
      "Cantidad de Categorías: 150\n"
     ]
    }
   ],
   "source": [
    "var_cat_interest = []\n",
    "print(\"\\nCantidad de Personas:   \"+str(dataset.shape[0]))\n",
    "print(\"Cantidad de Categorías: \"+str(dataset.shape[1]))"
   ]
  },
  {
   "cell_type": "markdown",
   "metadata": {},
   "source": [
    "#### Veremos la distribucion de edad ####"
   ]
  },
  {
   "cell_type": "code",
   "execution_count": 3,
   "metadata": {},
   "outputs": [
    {
     "data": {
      "text/html": [
       "<div>\n",
       "<style scoped>\n",
       "    .dataframe tbody tr th:only-of-type {\n",
       "        vertical-align: middle;\n",
       "    }\n",
       "\n",
       "    .dataframe tbody tr th {\n",
       "        vertical-align: top;\n",
       "    }\n",
       "\n",
       "    .dataframe thead th {\n",
       "        text-align: right;\n",
       "    }\n",
       "</style>\n",
       "<table border=\"1\" class=\"dataframe\">\n",
       "  <thead>\n",
       "    <tr style=\"text-align: right;\">\n",
       "      <th></th>\n",
       "      <th>Age</th>\n",
       "    </tr>\n",
       "  </thead>\n",
       "  <tbody>\n",
       "    <tr>\n",
       "      <th>count</th>\n",
       "      <td>1003.000000</td>\n",
       "    </tr>\n",
       "    <tr>\n",
       "      <th>mean</th>\n",
       "      <td>20.433699</td>\n",
       "    </tr>\n",
       "    <tr>\n",
       "      <th>std</th>\n",
       "      <td>2.828840</td>\n",
       "    </tr>\n",
       "    <tr>\n",
       "      <th>min</th>\n",
       "      <td>15.000000</td>\n",
       "    </tr>\n",
       "    <tr>\n",
       "      <th>25%</th>\n",
       "      <td>19.000000</td>\n",
       "    </tr>\n",
       "    <tr>\n",
       "      <th>50%</th>\n",
       "      <td>20.000000</td>\n",
       "    </tr>\n",
       "    <tr>\n",
       "      <th>75%</th>\n",
       "      <td>22.000000</td>\n",
       "    </tr>\n",
       "    <tr>\n",
       "      <th>max</th>\n",
       "      <td>30.000000</td>\n",
       "    </tr>\n",
       "  </tbody>\n",
       "</table>\n",
       "</div>"
      ],
      "text/plain": [
       "               Age\n",
       "count  1003.000000\n",
       "mean     20.433699\n",
       "std       2.828840\n",
       "min      15.000000\n",
       "25%      19.000000\n",
       "50%      20.000000\n",
       "75%      22.000000\n",
       "max      30.000000"
      ]
     },
     "execution_count": 3,
     "metadata": {},
     "output_type": "execute_result"
    }
   ],
   "source": [
    "dataset.Age.dropna().describe().to_frame()"
   ]
  },
  {
   "cell_type": "markdown",
   "metadata": {},
   "source": [
    "#### Veremos ahora la distribucion por sexo de la muestra: ####"
   ]
  },
  {
   "cell_type": "code",
   "execution_count": 4,
   "metadata": {},
   "outputs": [
    {
     "data": {
      "image/png": "[encoded data removed]",
      "text/plain": [
       "<matplotlib.figure.Figure at 0x17c31e13048>"
      ]
     },
     "metadata": {},
     "output_type": "display_data"
    }
   ],
   "source": [
    "sex = dataset.Gender.value_counts(normalize=True)\n",
    "sex.to_frame()\n",
    "sexo = pd.DataFrame({'Female':sex.female*100, 'Male':sex.male*100}, index=['Percentage'])\n",
    "ax = sexo.plot(kind=\"barh\", stacked=True);"
   ]
  },
  {
   "cell_type": "markdown",
   "metadata": {},
   "source": [
    "#### Ahora veremos cuantos viven en la ciudad y cuantos en el campo ####"
   ]
  },
  {
   "cell_type": "code",
   "execution_count": 5,
   "metadata": {},
   "outputs": [
    {
     "data": {
      "image/png": "[encoded data removed]",
      "text/plain": [
       "<matplotlib.figure.Figure at 0x17c320ad8d0>"
      ]
     },
     "metadata": {},
     "output_type": "display_data"
    }
   ],
   "source": [
    "lugar = dataset['Village - town'].value_counts(normalize=True)\n",
    "lugar.to_frame()\n",
    "lg = pd.DataFrame({'Village':lugar.village*100, 'City':lugar.city*100}, index=['Percentage'])\n",
    "ax = lg.plot(kind=\"barh\", stacked=True);"
   ]
  },
  {
   "cell_type": "markdown",
   "metadata": {},
   "source": [
    "## Ahora relacionaremos el genero con algunas de las otras respuestas: ##\n"
   ]
  },
  {
   "cell_type": "code",
   "execution_count": 6,
   "metadata": {},
   "outputs": [
    {
     "data": {
      "text/html": [
       "<div>\n",
       "<style scoped>\n",
       "    .dataframe tbody tr th:only-of-type {\n",
       "        vertical-align: middle;\n",
       "    }\n",
       "\n",
       "    .dataframe tbody tr th {\n",
       "        vertical-align: top;\n",
       "    }\n",
       "\n",
       "    .dataframe thead th {\n",
       "        text-align: right;\n",
       "    }\n",
       "</style>\n",
       "<table border=\"1\" class=\"dataframe\">\n",
       "  <thead>\n",
       "    <tr style=\"text-align: right;\">\n",
       "      <th>Internet usage</th>\n",
       "      <th>few hours a day</th>\n",
       "      <th>less than an hour a day</th>\n",
       "      <th>most of the day</th>\n",
       "      <th>no time at all</th>\n",
       "      <th>All</th>\n",
       "    </tr>\n",
       "    <tr>\n",
       "      <th>Gender</th>\n",
       "      <th></th>\n",
       "      <th></th>\n",
       "      <th></th>\n",
       "      <th></th>\n",
       "      <th></th>\n",
       "    </tr>\n",
       "  </thead>\n",
       "  <tbody>\n",
       "    <tr>\n",
       "      <th>female</th>\n",
       "      <td>0.426295</td>\n",
       "      <td>0.102590</td>\n",
       "      <td>0.059761</td>\n",
       "      <td>0.001992</td>\n",
       "      <td>0.590637</td>\n",
       "    </tr>\n",
       "    <tr>\n",
       "      <th>male</th>\n",
       "      <td>0.310757</td>\n",
       "      <td>0.035857</td>\n",
       "      <td>0.061753</td>\n",
       "      <td>0.000996</td>\n",
       "      <td>0.409363</td>\n",
       "    </tr>\n",
       "    <tr>\n",
       "      <th>All</th>\n",
       "      <td>0.737052</td>\n",
       "      <td>0.138446</td>\n",
       "      <td>0.121514</td>\n",
       "      <td>0.002988</td>\n",
       "      <td>1.000000</td>\n",
       "    </tr>\n",
       "  </tbody>\n",
       "</table>\n",
       "</div>"
      ],
      "text/plain": [
       "Internet usage  few hours a day  less than an hour a day  most of the day  \\\n",
       "Gender                                                                      \n",
       "female                 0.426295                 0.102590         0.059761   \n",
       "male                   0.310757                 0.035857         0.061753   \n",
       "All                    0.737052                 0.138446         0.121514   \n",
       "\n",
       "Internet usage  no time at all       All  \n",
       "Gender                                    \n",
       "female                0.001992  0.590637  \n",
       "male                  0.000996  0.409363  \n",
       "All                   0.002988  1.000000  "
      ]
     },
     "metadata": {},
     "output_type": "display_data"
    },
    {
     "data": {
      "text/html": [
       "<div>\n",
       "<style scoped>\n",
       "    .dataframe tbody tr th:only-of-type {\n",
       "        vertical-align: middle;\n",
       "    }\n",
       "\n",
       "    .dataframe tbody tr th {\n",
       "        vertical-align: top;\n",
       "    }\n",
       "\n",
       "    .dataframe thead th {\n",
       "        text-align: right;\n",
       "    }\n",
       "</style>\n",
       "<table border=\"1\" class=\"dataframe\">\n",
       "  <thead>\n",
       "    <tr style=\"text-align: right;\">\n",
       "      <th>Education</th>\n",
       "      <th>college/bachelor degree</th>\n",
       "      <th>currently a primary school pupil</th>\n",
       "      <th>doctorate degree</th>\n",
       "      <th>masters degree</th>\n",
       "      <th>primary school</th>\n",
       "      <th>secondary school</th>\n",
       "      <th>All</th>\n",
       "    </tr>\n",
       "    <tr>\n",
       "      <th>Gender</th>\n",
       "      <th></th>\n",
       "      <th></th>\n",
       "      <th></th>\n",
       "      <th></th>\n",
       "      <th></th>\n",
       "      <th></th>\n",
       "      <th></th>\n",
       "    </tr>\n",
       "  </thead>\n",
       "  <tbody>\n",
       "    <tr>\n",
       "      <th>female</th>\n",
       "      <td>0.122632</td>\n",
       "      <td>0.005982</td>\n",
       "      <td>0.000000</td>\n",
       "      <td>0.043868</td>\n",
       "      <td>0.053838</td>\n",
       "      <td>0.363908</td>\n",
       "      <td>0.590229</td>\n",
       "    </tr>\n",
       "    <tr>\n",
       "      <th>male</th>\n",
       "      <td>0.088734</td>\n",
       "      <td>0.003988</td>\n",
       "      <td>0.004985</td>\n",
       "      <td>0.035892</td>\n",
       "      <td>0.023928</td>\n",
       "      <td>0.252243</td>\n",
       "      <td>0.409771</td>\n",
       "    </tr>\n",
       "    <tr>\n",
       "      <th>All</th>\n",
       "      <td>0.211366</td>\n",
       "      <td>0.009970</td>\n",
       "      <td>0.004985</td>\n",
       "      <td>0.079761</td>\n",
       "      <td>0.077767</td>\n",
       "      <td>0.616152</td>\n",
       "      <td>1.000000</td>\n",
       "    </tr>\n",
       "  </tbody>\n",
       "</table>\n",
       "</div>"
      ],
      "text/plain": [
       "Education  college/bachelor degree  currently a primary school pupil  \\\n",
       "Gender                                                                 \n",
       "female                    0.122632                          0.005982   \n",
       "male                      0.088734                          0.003988   \n",
       "All                       0.211366                          0.009970   \n",
       "\n",
       "Education  doctorate degree  masters degree  primary school  secondary school  \\\n",
       "Gender                                                                          \n",
       "female             0.000000        0.043868        0.053838          0.363908   \n",
       "male               0.004985        0.035892        0.023928          0.252243   \n",
       "All                0.004985        0.079761        0.077767          0.616152   \n",
       "\n",
       "Education       All  \n",
       "Gender               \n",
       "female     0.590229  \n",
       "male       0.409771  \n",
       "All        1.000000  "
      ]
     },
     "metadata": {},
     "output_type": "display_data"
    },
    {
     "data": {
      "text/html": [
       "<div>\n",
       "<style scoped>\n",
       "    .dataframe tbody tr th:only-of-type {\n",
       "        vertical-align: middle;\n",
       "    }\n",
       "\n",
       "    .dataframe tbody tr th {\n",
       "        vertical-align: top;\n",
       "    }\n",
       "\n",
       "    .dataframe thead th {\n",
       "        text-align: right;\n",
       "    }\n",
       "</style>\n",
       "<table border=\"1\" class=\"dataframe\">\n",
       "  <thead>\n",
       "    <tr style=\"text-align: right;\">\n",
       "      <th>Left - right handed</th>\n",
       "      <th>left handed</th>\n",
       "      <th>right handed</th>\n",
       "      <th>All</th>\n",
       "    </tr>\n",
       "    <tr>\n",
       "      <th>Gender</th>\n",
       "      <th></th>\n",
       "      <th></th>\n",
       "      <th></th>\n",
       "    </tr>\n",
       "  </thead>\n",
       "  <tbody>\n",
       "    <tr>\n",
       "      <th>female</th>\n",
       "      <td>0.046953</td>\n",
       "      <td>0.543457</td>\n",
       "      <td>0.59041</td>\n",
       "    </tr>\n",
       "    <tr>\n",
       "      <th>male</th>\n",
       "      <td>0.052947</td>\n",
       "      <td>0.356643</td>\n",
       "      <td>0.40959</td>\n",
       "    </tr>\n",
       "    <tr>\n",
       "      <th>All</th>\n",
       "      <td>0.099900</td>\n",
       "      <td>0.900100</td>\n",
       "      <td>1.00000</td>\n",
       "    </tr>\n",
       "  </tbody>\n",
       "</table>\n",
       "</div>"
      ],
      "text/plain": [
       "Left - right handed  left handed  right handed      All\n",
       "Gender                                                 \n",
       "female                  0.046953      0.543457  0.59041\n",
       "male                    0.052947      0.356643  0.40959\n",
       "All                     0.099900      0.900100  1.00000"
      ]
     },
     "metadata": {},
     "output_type": "display_data"
    },
    {
     "data": {
      "text/html": [
       "<div>\n",
       "<style scoped>\n",
       "    .dataframe tbody tr th:only-of-type {\n",
       "        vertical-align: middle;\n",
       "    }\n",
       "\n",
       "    .dataframe tbody tr th {\n",
       "        vertical-align: top;\n",
       "    }\n",
       "\n",
       "    .dataframe thead th {\n",
       "        text-align: right;\n",
       "    }\n",
       "</style>\n",
       "<table border=\"1\" class=\"dataframe\">\n",
       "  <thead>\n",
       "    <tr style=\"text-align: right;\">\n",
       "      <th>Punctuality</th>\n",
       "      <th>i am always on time</th>\n",
       "      <th>i am often early</th>\n",
       "      <th>i am often running late</th>\n",
       "      <th>All</th>\n",
       "    </tr>\n",
       "    <tr>\n",
       "      <th>Gender</th>\n",
       "      <th></th>\n",
       "      <th></th>\n",
       "      <th></th>\n",
       "      <th></th>\n",
       "    </tr>\n",
       "  </thead>\n",
       "  <tbody>\n",
       "    <tr>\n",
       "      <th>female</th>\n",
       "      <td>0.218563</td>\n",
       "      <td>0.186627</td>\n",
       "      <td>0.185629</td>\n",
       "      <td>0.590818</td>\n",
       "    </tr>\n",
       "    <tr>\n",
       "      <th>male</th>\n",
       "      <td>0.177645</td>\n",
       "      <td>0.136727</td>\n",
       "      <td>0.094810</td>\n",
       "      <td>0.409182</td>\n",
       "    </tr>\n",
       "    <tr>\n",
       "      <th>All</th>\n",
       "      <td>0.396208</td>\n",
       "      <td>0.323353</td>\n",
       "      <td>0.280439</td>\n",
       "      <td>1.000000</td>\n",
       "    </tr>\n",
       "  </tbody>\n",
       "</table>\n",
       "</div>"
      ],
      "text/plain": [
       "Punctuality  i am always on time  i am often early  i am often running late  \\\n",
       "Gender                                                                        \n",
       "female                  0.218563          0.186627                 0.185629   \n",
       "male                    0.177645          0.136727                 0.094810   \n",
       "All                     0.396208          0.323353                 0.280439   \n",
       "\n",
       "Punctuality       All  \n",
       "Gender                 \n",
       "female       0.590818  \n",
       "male         0.409182  \n",
       "All          1.000000  "
      ]
     },
     "metadata": {},
     "output_type": "display_data"
    },
    {
     "data": {
      "text/html": [
       "<div>\n",
       "<style scoped>\n",
       "    .dataframe tbody tr th:only-of-type {\n",
       "        vertical-align: middle;\n",
       "    }\n",
       "\n",
       "    .dataframe tbody tr th {\n",
       "        vertical-align: top;\n",
       "    }\n",
       "\n",
       "    .dataframe thead th {\n",
       "        text-align: right;\n",
       "    }\n",
       "</style>\n",
       "<table border=\"1\" class=\"dataframe\">\n",
       "  <thead>\n",
       "    <tr style=\"text-align: right;\">\n",
       "      <th>Village - town</th>\n",
       "      <th>city</th>\n",
       "      <th>village</th>\n",
       "      <th>All</th>\n",
       "    </tr>\n",
       "    <tr>\n",
       "      <th>Gender</th>\n",
       "      <th></th>\n",
       "      <th></th>\n",
       "      <th></th>\n",
       "    </tr>\n",
       "  </thead>\n",
       "  <tbody>\n",
       "    <tr>\n",
       "      <th>female</th>\n",
       "      <td>0.417</td>\n",
       "      <td>0.174</td>\n",
       "      <td>0.591</td>\n",
       "    </tr>\n",
       "    <tr>\n",
       "      <th>male</th>\n",
       "      <td>0.287</td>\n",
       "      <td>0.122</td>\n",
       "      <td>0.409</td>\n",
       "    </tr>\n",
       "    <tr>\n",
       "      <th>All</th>\n",
       "      <td>0.704</td>\n",
       "      <td>0.296</td>\n",
       "      <td>1.000</td>\n",
       "    </tr>\n",
       "  </tbody>\n",
       "</table>\n",
       "</div>"
      ],
      "text/plain": [
       "Village - town   city  village    All\n",
       "Gender                               \n",
       "female          0.417    0.174  0.591\n",
       "male            0.287    0.122  0.409\n",
       "All             0.704    0.296  1.000"
      ]
     },
     "metadata": {},
     "output_type": "display_data"
    },
    {
     "data": {
      "text/html": [
       "<div>\n",
       "<style scoped>\n",
       "    .dataframe tbody tr th:only-of-type {\n",
       "        vertical-align: middle;\n",
       "    }\n",
       "\n",
       "    .dataframe tbody tr th {\n",
       "        vertical-align: top;\n",
       "    }\n",
       "\n",
       "    .dataframe thead th {\n",
       "        text-align: right;\n",
       "    }\n",
       "</style>\n",
       "<table border=\"1\" class=\"dataframe\">\n",
       "  <thead>\n",
       "    <tr style=\"text-align: right;\">\n",
       "      <th>Smoking</th>\n",
       "      <th>current smoker</th>\n",
       "      <th>former smoker</th>\n",
       "      <th>never smoked</th>\n",
       "      <th>tried smoking</th>\n",
       "      <th>All</th>\n",
       "    </tr>\n",
       "    <tr>\n",
       "      <th>Gender</th>\n",
       "      <th></th>\n",
       "      <th></th>\n",
       "      <th></th>\n",
       "      <th></th>\n",
       "      <th></th>\n",
       "    </tr>\n",
       "  </thead>\n",
       "  <tbody>\n",
       "    <tr>\n",
       "      <th>female</th>\n",
       "      <td>0.111446</td>\n",
       "      <td>0.109438</td>\n",
       "      <td>0.123494</td>\n",
       "      <td>0.246988</td>\n",
       "      <td>0.591365</td>\n",
       "    </tr>\n",
       "    <tr>\n",
       "      <th>male</th>\n",
       "      <td>0.078313</td>\n",
       "      <td>0.065261</td>\n",
       "      <td>0.084337</td>\n",
       "      <td>0.180723</td>\n",
       "      <td>0.408635</td>\n",
       "    </tr>\n",
       "    <tr>\n",
       "      <th>All</th>\n",
       "      <td>0.189759</td>\n",
       "      <td>0.174699</td>\n",
       "      <td>0.207831</td>\n",
       "      <td>0.427711</td>\n",
       "      <td>1.000000</td>\n",
       "    </tr>\n",
       "  </tbody>\n",
       "</table>\n",
       "</div>"
      ],
      "text/plain": [
       "Smoking  current smoker  former smoker  never smoked  tried smoking       All\n",
       "Gender                                                                       \n",
       "female         0.111446       0.109438      0.123494       0.246988  0.591365\n",
       "male           0.078313       0.065261      0.084337       0.180723  0.408635\n",
       "All            0.189759       0.174699      0.207831       0.427711  1.000000"
      ]
     },
     "metadata": {},
     "output_type": "display_data"
    },
    {
     "data": {
      "text/html": [
       "<div>\n",
       "<style scoped>\n",
       "    .dataframe tbody tr th:only-of-type {\n",
       "        vertical-align: middle;\n",
       "    }\n",
       "\n",
       "    .dataframe tbody tr th {\n",
       "        vertical-align: top;\n",
       "    }\n",
       "\n",
       "    .dataframe thead th {\n",
       "        text-align: right;\n",
       "    }\n",
       "</style>\n",
       "<table border=\"1\" class=\"dataframe\">\n",
       "  <thead>\n",
       "    <tr style=\"text-align: right;\">\n",
       "      <th>Alcohol</th>\n",
       "      <th>drink a lot</th>\n",
       "      <th>never</th>\n",
       "      <th>social drinker</th>\n",
       "      <th>All</th>\n",
       "    </tr>\n",
       "    <tr>\n",
       "      <th>Gender</th>\n",
       "      <th></th>\n",
       "      <th></th>\n",
       "      <th></th>\n",
       "      <th></th>\n",
       "    </tr>\n",
       "  </thead>\n",
       "  <tbody>\n",
       "    <tr>\n",
       "      <th>female</th>\n",
       "      <td>0.104104</td>\n",
       "      <td>0.068068</td>\n",
       "      <td>0.418418</td>\n",
       "      <td>0.590591</td>\n",
       "    </tr>\n",
       "    <tr>\n",
       "      <th>male</th>\n",
       "      <td>0.117117</td>\n",
       "      <td>0.055055</td>\n",
       "      <td>0.237237</td>\n",
       "      <td>0.409409</td>\n",
       "    </tr>\n",
       "    <tr>\n",
       "      <th>All</th>\n",
       "      <td>0.221221</td>\n",
       "      <td>0.123123</td>\n",
       "      <td>0.655656</td>\n",
       "      <td>1.000000</td>\n",
       "    </tr>\n",
       "  </tbody>\n",
       "</table>\n",
       "</div>"
      ],
      "text/plain": [
       "Alcohol  drink a lot     never  social drinker       All\n",
       "Gender                                                  \n",
       "female      0.104104  0.068068        0.418418  0.590591\n",
       "male        0.117117  0.055055        0.237237  0.409409\n",
       "All         0.221221  0.123123        0.655656  1.000000"
      ]
     },
     "metadata": {},
     "output_type": "display_data"
    }
   ],
   "source": [
    "inte_genero = pd.crosstab(dataset.Gender, dataset['Internet usage'],         margins=True, normalize=True)\n",
    "educ_genero = pd.crosstab(dataset.Gender, dataset['Education'],              margins=True, normalize=True)\n",
    "zude_genero = pd.crosstab(dataset.Gender, dataset['Left - right handed'],    margins=True, normalize=True)\n",
    "hu_genero = pd.crosstab(dataset.Gender, dataset['Only child'],             margins=True, normalize=True)\n",
    "puci_genero = pd.crosstab(dataset.Gender, dataset['Village - town'],         margins=True, normalize=True)\n",
    "fuma_genero = pd.crosstab(dataset.Gender, dataset['Smoking'] ,               margins=True, normalize=True)\n",
    "alco_genero = pd.crosstab(dataset.Gender, dataset['Alcohol'],                margins=True, normalize=True)\n",
    "punt_genero = pd.crosstab(dataset.Gender, dataset['Punctuality'],            margins=True, normalize=True)\n",
    "\n",
    "#Muestro las tablas de contingencia\n",
    "if True:\n",
    "    display(inte_genero)\n",
    "    display(educ_genero)\n",
    "    display(zude_genero)\n",
    "    display(punt_genero)\n",
    "    display(puci_genero)\n",
    "    display(fuma_genero)\n",
    "    display(alco_genero)\n"
   ]
  },
  {
   "cell_type": "markdown",
   "metadata": {},
   "source": [
    "## Vamos a presentar en Gráficos la informacion mostrada en las tablas ##\n",
    "\n"
   ]
  },
  {
   "cell_type": "markdown",
   "metadata": {},
   "source": [
    "#### Uso de Internet: ####"
   ]
  },
  {
   "cell_type": "code",
   "execution_count": 7,
   "metadata": {},
   "outputs": [
    {
     "data": {
      "image/png": "[encoded data removed]",
      "text/plain": [
       "<matplotlib.figure.Figure at 0x17c320d9518>"
      ]
     },
     "metadata": {},
     "output_type": "display_data"
    }
   ],
   "source": [
    "plot= pd.crosstab(index=dataset['Gender'],\n",
    "            columns=dataset['Internet usage']).apply(lambda r: r/r.sum() *100,\n",
    "                                              axis=1).plot(kind='bar')"
   ]
  },
  {
   "cell_type": "markdown",
   "metadata": {},
   "source": [
    "#### Nivel de Educación ####"
   ]
  },
  {
   "cell_type": "code",
   "execution_count": 8,
   "metadata": {},
   "outputs": [
    {
     "data": {
      "image/png": "[encoded data removed]",
      "text/plain": [
       "<matplotlib.figure.Figure at 0x17c3246a6a0>"
      ]
     },
     "metadata": {},
     "output_type": "display_data"
    }
   ],
   "source": [
    "plot= pd.crosstab(index=dataset['Gender'],\n",
    "            columns=dataset['Education']).apply(lambda r: r/r.sum() *100,\n",
    "                                              axis=1).plot(kind='bar')"
   ]
  },
  {
   "cell_type": "markdown",
   "metadata": {},
   "source": [
    "#### Cuantos son Zurdos y cuantos Derechos ####"
   ]
  },
  {
   "cell_type": "code",
   "execution_count": 9,
   "metadata": {},
   "outputs": [
    {
     "data": {
      "image/png": "[encoded data removed]",
      "text/plain": [
       "<matplotlib.figure.Figure at 0x17c324c7fd0>"
      ]
     },
     "metadata": {},
     "output_type": "display_data"
    }
   ],
   "source": [
    "plot= pd.crosstab(index=dataset['Gender'],\n",
    "            columns=dataset['Left - right handed']).apply(lambda r: r/r.sum() *100,\n",
    "                                              axis=1).plot(kind='bar')"
   ]
  },
  {
   "cell_type": "markdown",
   "metadata": {},
   "source": [
    "#### Cuantos son Hijos únicos###"
   ]
  },
  {
   "cell_type": "code",
   "execution_count": 10,
   "metadata": {},
   "outputs": [
    {
     "data": {
      "image/png": "[encoded data removed]",
      "text/plain": [
       "<matplotlib.figure.Figure at 0x17c325027b8>"
      ]
     },
     "metadata": {},
     "output_type": "display_data"
    }
   ],
   "source": [
    "plot= pd.crosstab(index=dataset['Gender'],\n",
    "            columns=dataset['Only child']).apply(lambda r: r/r.sum() *100,\n",
    "                                              axis=1).plot(kind='bar')"
   ]
  },
  {
   "cell_type": "markdown",
   "metadata": {},
   "source": [
    "#### Cuantos viven en la ciudad y cuantos en el campo ####"
   ]
  },
  {
   "cell_type": "code",
   "execution_count": 11,
   "metadata": {},
   "outputs": [
    {
     "data": {
      "image/png": "[encoded data removed]",
      "text/plain": [
       "<matplotlib.figure.Figure at 0x17c3253f748>"
      ]
     },
     "metadata": {},
     "output_type": "display_data"
    }
   ],
   "source": [
    "plot= pd.crosstab(index=dataset['Gender'],\n",
    "            columns=dataset['Village - town']).apply(lambda r: r/r.sum() *100,\n",
    "                                              axis=1).plot(kind='bar')"
   ]
  },
  {
   "cell_type": "code",
   "execution_count": 12,
   "metadata": {},
   "outputs": [
    {
     "data": {
      "image/png": "[encoded data removed]",
      "text/plain": [
       "<matplotlib.figure.Figure at 0x17c325ee940>"
      ]
     },
     "metadata": {},
     "output_type": "display_data"
    }
   ],
   "source": [
    "plot= pd.crosstab(index=dataset['Gender'],\n",
    "            columns=dataset['Village - town']).apply(lambda r: r/r.sum() *100,\n",
    "                                              axis=1).plot(kind='bar')"
   ]
  },
  {
   "cell_type": "markdown",
   "metadata": {},
   "source": [
    "#### Cuantos Fuman ####"
   ]
  },
  {
   "cell_type": "code",
   "execution_count": 13,
   "metadata": {},
   "outputs": [
    {
     "data": {
      "image/png": "[encoded data removed]",
      "text/plain": [
       "<matplotlib.figure.Figure at 0x17c325d83c8>"
      ]
     },
     "metadata": {},
     "output_type": "display_data"
    }
   ],
   "source": [
    "plot= pd.crosstab(index=dataset['Gender'],\n",
    "            columns=dataset['Smoking']).apply(lambda r: r/r.sum() *100,\n",
    "                                              axis=1).plot(kind='bar')"
   ]
  },
  {
   "cell_type": "code",
   "execution_count": 14,
   "metadata": {},
   "outputs": [
    {
     "data": {
      "image/png": "[encoded data removed]",
      "text/plain": [
       "<matplotlib.figure.Figure at 0x17c324a0d30>"
      ]
     },
     "metadata": {},
     "output_type": "display_data"
    }
   ],
   "source": [
    "plot= pd.crosstab(index=dataset['Gender'],\n",
    "            columns=dataset['Alcohol']).apply(lambda r: r/r.sum() *100,\n",
    "                                              axis=1).plot(kind='bar')"
   ]
  },
  {
   "cell_type": "code",
   "execution_count": null,
   "metadata": {},
   "outputs": [],
   "source": []
  },
  {
   "cell_type": "markdown",
   "metadata": {},
   "source": [
    "#### Ahora analizaremos con mas detalle la relacion entre el uso de internet, el sexo y el sentimiento de soledad.###\n",
    "\n",
    "En una primera aproximación veremos cuantos y como usan internet:"
   ]
  },
  {
   "cell_type": "code",
   "execution_count": 15,
   "metadata": {
    "scrolled": true
   },
   "outputs": [
    {
     "data": {
      "text/plain": [
       "<matplotlib.axes._subplots.AxesSubplot at 0x17c324047f0>"
      ]
     },
     "execution_count": 15,
     "metadata": {},
     "output_type": "execute_result"
    },
    {
     "data": {
      "image/png": "[encoded data removed]",
      "text/plain": [
       "<matplotlib.figure.Figure at 0x17c323e8b38>"
      ]
     },
     "metadata": {},
     "output_type": "display_data"
    }
   ],
   "source": [
    "sb.countplot(y=\"Internet usage\", data=dataset)\n"
   ]
  },
  {
   "cell_type": "markdown",
   "metadata": {},
   "source": [
    "## Contemplamos el género ##\n",
    "\n",
    "En este punto detectamos que cerca del 60% de nuestros consultados fueron mujeres. "
   ]
  },
  {
   "cell_type": "code",
   "execution_count": 16,
   "metadata": {},
   "outputs": [
    {
     "data": {
      "text/plain": [
       "<matplotlib.axes._subplots.AxesSubplot at 0x17c320e5f98>"
      ]
     },
     "execution_count": 16,
     "metadata": {},
     "output_type": "execute_result"
    },
    {
     "data": {
      "image/png": "[encoded data removed]",
      "text/plain": [
       "<matplotlib.figure.Figure at 0x17c324f04e0>"
      ]
     },
     "metadata": {},
     "output_type": "display_data"
    }
   ],
   "source": [
    "sb.countplot(y=\"Gender\", data=dataset)"
   ]
  },
  {
   "cell_type": "markdown",
   "metadata": {},
   "source": [
    "## Contemplamos la edad ##\n",
    "\n",
    "Las personas que respondieron a la encuesta están en el grupo etario de 18 a 25 años, aproximadamente. Casualmente  aquellos a los que se apunta con el artículo inicial."
   ]
  },
  {
   "cell_type": "code",
   "execution_count": 17,
   "metadata": {},
   "outputs": [
    {
     "data": {
      "text/plain": [
       "<matplotlib.axes._subplots.AxesSubplot at 0x17c324496a0>"
      ]
     },
     "execution_count": 17,
     "metadata": {},
     "output_type": "execute_result"
    },
    {
     "data": {
      "image/png": "[encoded data removed]",
      "text/plain": [
       "<matplotlib.figure.Figure at 0x17c32173550>"
      ]
     },
     "metadata": {},
     "output_type": "display_data"
    }
   ],
   "source": [
    "sb.barplot(x=\"Gender\", y=\"Age\", data=dataset) \n"
   ]
  },
  {
   "cell_type": "markdown",
   "metadata": {},
   "source": [
    "## Finalmente cruzamos todos los datos ##\n",
    "\n",
    "De este mapa podemos analizar varias tendencias interesantes:\n",
    "\n",
    "1. El 59% de las mujeres utilizan el internet a diario.\n",
    "2. El 40% de los hombres restantes también lo utilizan.\n",
    "3. La diferencia entre porcentajes claramente está dada por la distribución de la muestra. Esto denota claramente que, de haber paridad de género, las tendencias se igualarían.\n",
    "4. La cantidad de personas que admitieron estar conectados gran parte del día fue la misma tanto para hombres como para mujeres. Si bien esto habla de paridad, teniendo en cuenta la distribución indica que los hombres son más propensos a la denominada \"hiperconectividad\"."
   ]
  },
  {
   "cell_type": "code",
   "execution_count": 18,
   "metadata": {},
   "outputs": [
    {
     "data": {
      "text/plain": [
       "<matplotlib.axes._subplots.AxesSubplot at 0x17c324eb748>"
      ]
     },
     "execution_count": 18,
     "metadata": {},
     "output_type": "execute_result"
    },
    {
     "data": {
      "image/png": "[encoded data removed]",
      "text/plain": [
       "<matplotlib.figure.Figure at 0x17c324bdb38>"
      ]
     },
     "metadata": {},
     "output_type": "display_data"
    }
   ],
   "source": [
    "ct2 = pd.crosstab(index=dataset[\"Gender\"], columns=dataset[\"Internet usage\"], margins=False, normalize=True)\n",
    "sb.set()\n",
    "sb.heatmap(ct2,cmap=\"Blues\", annot=True)"
   ]
  },
  {
   "cell_type": "code",
   "execution_count": 19,
   "metadata": {},
   "outputs": [
    {
     "data": {
      "text/plain": [
       "<matplotlib.axes._subplots.AxesSubplot at 0x17c32696828>"
      ]
     },
     "execution_count": 19,
     "metadata": {},
     "output_type": "execute_result"
    },
    {
     "data": {
      "image/png": "[encoded data removed]",
      "text/plain": [
       "<matplotlib.figure.Figure at 0x17c326d0240>"
      ]
     },
     "metadata": {},
     "output_type": "display_data"
    }
   ],
   "source": [
    "ct2 = pd.crosstab(index=dataset[\"Gender\"], columns=dataset[\"Left - right handed\"], margins=False, normalize=True)\n",
    "sb.set()\n",
    "sb.heatmap(ct2,cmap=\"BuPu\", annot=True)"
   ]
  },
  {
   "cell_type": "markdown",
   "metadata": {},
   "source": [
    "## Resumen ##\n",
    "\n",
    "Si bien este es un estudio realizado entre un grupo de jóvenes, podemos observar que la paridad de la distribución en sus aspectos género y edad nos permite inferir que la juventud está en contacto permanente con internet. Si bien es cierto que varía la cantidad de horas, es importante destacar que la necesidad está inmersa en la sociedad. Podemos garantizar que las tendencias continuarán en alza, expandiéndose hacia los diferentes grupos etarios y alcanzando por igual a los diferentes géneros.\n",
    "\n",
    "Por todo esto podemos asegurar que no existe una correlación cuando se trata de analizar el uso a internet. Debido a que cada vez más contenidos se encuentran dentro de la red, nos es imposible estudiar, trabajar o simplemente entretenernos sin entrar en contacto con la gigantesca nube que nos rodea."
   ]
  },
  {
   "cell_type": "markdown",
   "metadata": {},
   "source": [
    "****"
   ]
  },
  {
   "cell_type": "markdown",
   "metadata": {},
   "source": [
    " \n",
    "## Test de Chi-cuadrado ($\\chi^2$) para confirmar la idependencia  o no de los datos de la muestra ##"
   ]
  },
  {
   "cell_type": "markdown",
   "metadata": {},
   "source": [
    "\n",
    "#### El test de independencia de $\\chi^2$, lo podemos realizar de manera manual ó bien utilizando la librería \"scipy.stats\". En nuestro caso vamos a mostrar en primer lugar como sería el cálculo manual y luego usaremos la función \"chi2_contingency\".\n",
    "#### Además, el test $\\chi^2$, define las hipótesis de la siguiente manera:\n",
    "$$H_0 = Las\\;variables\\;son\\;independientes\\;(Hipotesis\\;nula)$$\n",
    "$$H_1 = Las\\;variables\\;estan\\;relacionadas$$"
   ]
  },
  {
   "cell_type": "markdown",
   "metadata": {},
   "source": [
    "Dado  que en nuestro análisis vimos el Uso de internet y la prevalencia de zurdos (dado que ambos somos zurdos), sólo nos concentraremos en estos dos casos para hacer el análisis de $\\chi^2$"
   ]
  },
  {
   "cell_type": "code",
   "execution_count": 20,
   "metadata": {},
   "outputs": [
    {
     "name": "stdout",
     "output_type": "stream",
     "text": [
      "\n",
      "Relación Género - Uso de Internet, Manual\n",
      "\n",
      "Chi2 = 1024542.2613984427\n",
      "P_valor = 0.0\n",
      "\n",
      "Relación Género - Uso de Internet, usando Scipy\n",
      "\n",
      "Chi2 = 18.459423703628325\n",
      "P_valor = 0.0180338820583029\n",
      "\n",
      "Las variables son DEPENDIENTES\n"
     ]
    }
   ],
   "source": [
    "print(\"\\nRelación Género - Uso de Internet, Manual\\n\")\n",
    "inte_genero = pd.crosstab(dataset.Gender, dataset['Internet usage'],         margins=True, normalize=True)\n",
    "inte_genero2 = pd.crosstab(dataset.Gender, dataset['Internet usage'], margins=True)\n",
    "expected = np.outer(inte_genero[\"All\"][0:2],inte_genero.ix[\"All\"][0:4])/inte_genero[\"All\"][\"All\"]\n",
    "expected = pd.DataFrame(expected)\n",
    "expected.columns = [\"few hours a day\",\"less than an hour a day\",\"most of the day\",\"no time at all\"] \n",
    "expected.index = [\"female\",\"male\"]\n",
    "chi_squared_stat = (((inte_genero2-expected)**2)/expected).sum().sum()\n",
    "print(\"Chi2 = \"+str(chi_squared_stat))\n",
    "crit = stats.chi2.ppf(q = 0.95, # 95% de confianza*\n",
    "                      df = 3)   \n",
    "#print(\"Valor crítico = \"+str(crit))\n",
    "p_value = 1 - stats.chi2.cdf(x=chi_squared_stat, df=3)\n",
    "print(\"P_valor = \"+str(p_value))\n",
    "\n",
    "#Test de independencia Chi-Cuadrado para \"Gender\" y \"Internet usage\" (cálculo mediante función de scipy)\n",
    "chi2, p, dof, ex = stats.chi2_contingency(observed= inte_genero2)\n",
    "print(\"\\nRelación Género - Uso de Internet, usando Scipy\\n\")\n",
    "print(\"Chi2 = \"+str(chi2))\n",
    "print(\"P_valor = \"+str(p))\n",
    "\n",
    "if p>0.05:\n",
    "    print(\"\\nLas variables son INDEPENDIENTES\")\n",
    "else:\n",
    "    print(\"\\nLas variables son DEPENDIENTES\")\n",
    "    var_cat_interest.append('Internet usage')\n"
   ]
  },
  {
   "cell_type": "code",
   "execution_count": 21,
   "metadata": {},
   "outputs": [
    {
     "name": "stdout",
     "output_type": "stream",
     "text": [
      "\n",
      "Relación Género - Uso de la mano Izquierda(Zurdos), Manual\n",
      "\n",
      "Chi2 = 1006667.4894856946\n",
      "P_valor = 0.0\n",
      "\n",
      "Relación Género - Uso de la mano Izquierda(Zurdos), usando Scipy\n",
      "\n",
      "Chi2 = 6.660828657037643\n",
      "P_valor = 0.009855507556855131\n",
      "\n",
      "Las variables son DEPENDIENTES\n"
     ]
    }
   ],
   "source": [
    "print(\"\\nRelación Género - Uso de la mano Izquierda(Zurdos), Manual\\n\")\n",
    "zurdo_genero = pd.crosstab(dataset.Gender, dataset['Left - right handed'],  margins=True, normalize=True)\n",
    "zurdo_genero2 = pd.crosstab(dataset.Gender, dataset['Left - right handed'], margins=False)\n",
    "expected = np.outer(zurdo_genero[\"All\"][0:2],zurdo_genero.ix[\"All\"][0:2])/zurdo_genero[\"All\"][\"All\"]\n",
    "expected = pd.DataFrame(expected)\n",
    "expected.columns = [\"left handed\",\"right handed\"] \n",
    "expected.index = [\"female\",\"male\"]\n",
    "chi_squared_stat = (((zurdo_genero2-expected)**2)/expected).sum().sum()\n",
    "print(\"Chi2 = \"+str(chi_squared_stat))\n",
    "crit = stats.chi2.ppf(q = 0.95, # 95% de confianza*\n",
    "                      df = 1)   \n",
    "#print(\"Valor crítico = \"+str(crit))\n",
    "p_value = 1 - stats.chi2.cdf(x=chi_squared_stat, df=1)\n",
    "print(\"P_valor = \"+str(p_value))\n",
    "\n",
    "#Test de independencia Chi-Cuadrado para \"Gender\" y \"Internet usage\" (cálculo mediante función de scipy)\n",
    "chi2, p, dof, ex = stats.chi2_contingency(observed= zurdo_genero2, correction=False)\n",
    "print(\"\\nRelación Género - Uso de la mano Izquierda(Zurdos), usando Scipy\\n\")\n",
    "print(\"Chi2 = \"+str(chi2))\n",
    "print(\"P_valor = \"+str(p))\n",
    "\n",
    "if p>0.05:\n",
    "    print(\"\\nLas variables son INDEPENDIENTES\")\n",
    "else:\n",
    "    print(\"\\nLas variables son DEPENDIENTES\")\n",
    "    var_cat_interest.append('Internet usage')\n"
   ]
  },
  {
   "cell_type": "markdown",
   "metadata": {},
   "source": [
    "#### En ambos casos, dado que $p_{valor}<0.05$, podemos rechazar la hipótesis nula de que las variables son independientes. "
   ]
  },
  {
   "cell_type": "markdown",
   "metadata": {},
   "source": [
    "Analizando en detalle los datos, podemos observar que las personas de género femenino son mas propensas a \"sentirse solas y deprimidas\" a pesar de estar mas conectadas utilizando internet.\n",
    "Mientras que las personas de género masculino son mas propensas a ser zurdas."
   ]
  }
 ],
 "metadata": {
  "kernelspec": {
   "display_name": "Python 3",
   "language": "python",
   "name": "python3"
  },
  "language_info": {
   "codemirror_mode": {
    "name": "ipython",
    "version": 3
   },
   "file_extension": ".py",
   "mimetype": "text/x-python",
   "name": "python",
   "nbconvert_exporter": "python",
   "pygments_lexer": "ipython3",
   "version": "3.6.4"
  }
 },
 "nbformat": 4,
 "nbformat_minor": 2
}
